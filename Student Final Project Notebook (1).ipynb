{
 "cells": [
  {
   "cell_type": "code",
   "execution_count": 41,
   "id": "4911b52a-f496-472a-8619-19870c55476d",
   "metadata": {
    "tags": []
   },
   "outputs": [],
   "source": [
    "import pandas as pd\n",
    "import numpy as np\n",
    "import matplotlib.pyplot as plt\n",
    "import seaborn as sns\n",
    "from scipy.stats import bartlett, f_oneway, levene\n",
    "from statsmodels.stats.multicomp import pairwise_tukeyhsd, MultiComparison\n",
    "import pingouin as pg\n",
    "from scipy.stats import shapiro\n",
    "\n",
    "import warnings\n",
    "warnings.filterwarnings(\"ignore\")"
   ]
  },
  {
   "cell_type": "markdown",
   "id": "651c280e-5c95-4d2b-9cef-0f0205d022f7",
   "metadata": {},
   "source": [
    "## Step One\n",
    "---\n",
    "\n",
    "#### Read in your data"
   ]
  },
  {
   "cell_type": "code",
   "execution_count": 2,
   "id": "75904fc7-3d4a-475f-9ab7-07326c468c91",
   "metadata": {
    "tags": []
   },
   "outputs": [
    {
     "data": {
      "text/html": [
       "<div>\n",
       "<style scoped>\n",
       "    .dataframe tbody tr th:only-of-type {\n",
       "        vertical-align: middle;\n",
       "    }\n",
       "\n",
       "    .dataframe tbody tr th {\n",
       "        vertical-align: top;\n",
       "    }\n",
       "\n",
       "    .dataframe thead th {\n",
       "        text-align: right;\n",
       "    }\n",
       "</style>\n",
       "<table border=\"1\" class=\"dataframe\">\n",
       "  <thead>\n",
       "    <tr style=\"text-align: right;\">\n",
       "      <th></th>\n",
       "      <th>Date</th>\n",
       "      <th>AveragePrice</th>\n",
       "      <th>Total Volume</th>\n",
       "      <th>4046</th>\n",
       "      <th>4225</th>\n",
       "      <th>4770</th>\n",
       "      <th>Total Bags</th>\n",
       "      <th>Small Bags</th>\n",
       "      <th>Large Bags</th>\n",
       "      <th>XLarge Bags</th>\n",
       "      <th>type</th>\n",
       "      <th>year</th>\n",
       "      <th>region</th>\n",
       "      <th>Season</th>\n",
       "    </tr>\n",
       "  </thead>\n",
       "  <tbody>\n",
       "    <tr>\n",
       "      <th>0</th>\n",
       "      <td>2015-12-27</td>\n",
       "      <td>1.33</td>\n",
       "      <td>64236.62</td>\n",
       "      <td>1036.74</td>\n",
       "      <td>54454.85</td>\n",
       "      <td>48.16</td>\n",
       "      <td>8696.87</td>\n",
       "      <td>8603.62</td>\n",
       "      <td>93.25</td>\n",
       "      <td>0.0</td>\n",
       "      <td>conventional</td>\n",
       "      <td>2015</td>\n",
       "      <td>Albany</td>\n",
       "      <td>1</td>\n",
       "    </tr>\n",
       "    <tr>\n",
       "      <th>1</th>\n",
       "      <td>2015-12-20</td>\n",
       "      <td>1.35</td>\n",
       "      <td>54876.98</td>\n",
       "      <td>674.28</td>\n",
       "      <td>44638.81</td>\n",
       "      <td>58.33</td>\n",
       "      <td>9505.56</td>\n",
       "      <td>9408.07</td>\n",
       "      <td>97.49</td>\n",
       "      <td>0.0</td>\n",
       "      <td>conventional</td>\n",
       "      <td>2015</td>\n",
       "      <td>Albany</td>\n",
       "      <td>1</td>\n",
       "    </tr>\n",
       "    <tr>\n",
       "      <th>2</th>\n",
       "      <td>2015-12-13</td>\n",
       "      <td>0.93</td>\n",
       "      <td>118220.22</td>\n",
       "      <td>794.70</td>\n",
       "      <td>109149.67</td>\n",
       "      <td>130.50</td>\n",
       "      <td>8145.35</td>\n",
       "      <td>8042.21</td>\n",
       "      <td>103.14</td>\n",
       "      <td>0.0</td>\n",
       "      <td>conventional</td>\n",
       "      <td>2015</td>\n",
       "      <td>Albany</td>\n",
       "      <td>1</td>\n",
       "    </tr>\n",
       "    <tr>\n",
       "      <th>3</th>\n",
       "      <td>2015-12-06</td>\n",
       "      <td>1.08</td>\n",
       "      <td>78992.15</td>\n",
       "      <td>1132.00</td>\n",
       "      <td>71976.41</td>\n",
       "      <td>72.58</td>\n",
       "      <td>5811.16</td>\n",
       "      <td>5677.40</td>\n",
       "      <td>133.76</td>\n",
       "      <td>0.0</td>\n",
       "      <td>conventional</td>\n",
       "      <td>2015</td>\n",
       "      <td>Albany</td>\n",
       "      <td>1</td>\n",
       "    </tr>\n",
       "    <tr>\n",
       "      <th>4</th>\n",
       "      <td>2015-11-29</td>\n",
       "      <td>1.28</td>\n",
       "      <td>51039.60</td>\n",
       "      <td>941.48</td>\n",
       "      <td>43838.39</td>\n",
       "      <td>75.78</td>\n",
       "      <td>6183.95</td>\n",
       "      <td>5986.26</td>\n",
       "      <td>197.69</td>\n",
       "      <td>0.0</td>\n",
       "      <td>conventional</td>\n",
       "      <td>2015</td>\n",
       "      <td>Albany</td>\n",
       "      <td>4</td>\n",
       "    </tr>\n",
       "  </tbody>\n",
       "</table>\n",
       "</div>"
      ],
      "text/plain": [
       "         Date  AveragePrice  Total Volume     4046       4225    4770  \\\n",
       "0  2015-12-27          1.33      64236.62  1036.74   54454.85   48.16   \n",
       "1  2015-12-20          1.35      54876.98   674.28   44638.81   58.33   \n",
       "2  2015-12-13          0.93     118220.22   794.70  109149.67  130.50   \n",
       "3  2015-12-06          1.08      78992.15  1132.00   71976.41   72.58   \n",
       "4  2015-11-29          1.28      51039.60   941.48   43838.39   75.78   \n",
       "\n",
       "   Total Bags  Small Bags  Large Bags  XLarge Bags          type  year  \\\n",
       "0     8696.87     8603.62       93.25          0.0  conventional  2015   \n",
       "1     9505.56     9408.07       97.49          0.0  conventional  2015   \n",
       "2     8145.35     8042.21      103.14          0.0  conventional  2015   \n",
       "3     5811.16     5677.40      133.76          0.0  conventional  2015   \n",
       "4     6183.95     5986.26      197.69          0.0  conventional  2015   \n",
       "\n",
       "   region  Season  \n",
       "0  Albany       1  \n",
       "1  Albany       1  \n",
       "2  Albany       1  \n",
       "3  Albany       1  \n",
       "4  Albany       4  "
      ]
     },
     "execution_count": 2,
     "metadata": {},
     "output_type": "execute_result"
    }
   ],
   "source": [
    "### start code\n",
    "df = pd.read_csv(\"C:/Users/j_els/OneDrive/Documents/Data Science coursework/Group Project/avocados_seasons.csv\")\n",
    "df = df.iloc[:,1:]\n",
    "df.head()\n",
    "### end code"
   ]
  },
  {
   "cell_type": "markdown",
   "id": "eff5380f-ca58-4d64-be71-2b84e1149297",
   "metadata": {},
   "source": [
    "## Step Two - Exploratory Data Analysis\n",
    "---\n",
    "#### Check number of rows and columns"
   ]
  },
  {
   "cell_type": "code",
   "execution_count": 3,
   "id": "eaa07388-4f3c-46ff-bf4a-146e77a32881",
   "metadata": {
    "tags": []
   },
   "outputs": [
    {
     "name": "stdout",
     "output_type": "stream",
     "text": [
      "Rows: 18249\n",
      "Columns: 14\n"
     ]
    }
   ],
   "source": [
    "print(f'Rows: {df.shape[0]}')\n",
    "print(f'Columns: {df.shape[1]}')"
   ]
  },
  {
   "cell_type": "markdown",
   "id": "ca8e6995-a629-4651-9aa7-80a06a1e044f",
   "metadata": {},
   "source": [
    "## Step Three\n",
    "---"
   ]
  },
  {
   "cell_type": "code",
   "execution_count": 4,
   "id": "52cbaab9-59c0-4aa6-b12c-686033f6890f",
   "metadata": {
    "tags": []
   },
   "outputs": [
    {
     "data": {
      "text/plain": [
       "array(['conventional', 'organic'], dtype=object)"
      ]
     },
     "execution_count": 4,
     "metadata": {},
     "output_type": "execute_result"
    }
   ],
   "source": [
    "#print unique values for type column\n",
    "df.type.unique()"
   ]
  },
  {
   "cell_type": "code",
   "execution_count": 5,
   "id": "00764802-24e4-4b34-bef5-f59e7ba53086",
   "metadata": {},
   "outputs": [
    {
     "data": {
      "text/plain": [
       "array(['Albany', 'Atlanta', 'BaltimoreWashington', 'Boise', 'Boston',\n",
       "       'BuffaloRochester', 'California', 'Charlotte', 'Chicago',\n",
       "       'CincinnatiDayton', 'Columbus', 'DallasFtWorth', 'Denver',\n",
       "       'Detroit', 'GrandRapids', 'GreatLakes', 'HarrisburgScranton',\n",
       "       'HartfordSpringfield', 'Houston', 'Indianapolis', 'Jacksonville',\n",
       "       'LasVegas', 'LosAngeles', 'Louisville', 'MiamiFtLauderdale',\n",
       "       'Midsouth', 'Nashville', 'NewOrleansMobile', 'NewYork',\n",
       "       'Northeast', 'NorthernNewEngland', 'Orlando', 'Philadelphia',\n",
       "       'PhoenixTucson', 'Pittsburgh', 'Plains', 'Portland',\n",
       "       'RaleighGreensboro', 'RichmondNorfolk', 'Roanoke', 'Sacramento',\n",
       "       'SanDiego', 'SanFrancisco', 'Seattle', 'SouthCarolina',\n",
       "       'SouthCentral', 'Southeast', 'Spokane', 'StLouis', 'Syracuse',\n",
       "       'Tampa', 'TotalUS', 'West', 'WestTexNewMexico'], dtype=object)"
      ]
     },
     "execution_count": 5,
     "metadata": {},
     "output_type": "execute_result"
    }
   ],
   "source": [
    "#print unique values for region column\n",
    "df.region.unique()"
   ]
  },
  {
   "cell_type": "code",
   "execution_count": 6,
   "id": "6cecbda3-8103-495f-8a1a-e141f0dab0db",
   "metadata": {},
   "outputs": [
    {
     "data": {
      "text/plain": [
       "count      18249\n",
       "unique        54\n",
       "top       Albany\n",
       "freq         338\n",
       "Name: region, dtype: object"
      ]
     },
     "execution_count": 6,
     "metadata": {},
     "output_type": "execute_result"
    }
   ],
   "source": [
    "df.region.describe()"
   ]
  },
  {
   "cell_type": "code",
   "execution_count": 7,
   "id": "84fb919a-db7c-48c0-8c57-869068329d7d",
   "metadata": {},
   "outputs": [
    {
     "data": {
      "text/plain": [
       "count    18249.000000\n",
       "mean         1.405978\n",
       "std          0.402677\n",
       "min          0.440000\n",
       "25%          1.100000\n",
       "50%          1.370000\n",
       "75%          1.660000\n",
       "max          3.250000\n",
       "Name: AveragePrice, dtype: float64"
      ]
     },
     "execution_count": 7,
     "metadata": {},
     "output_type": "execute_result"
    }
   ],
   "source": [
    "df.AveragePrice.describe()"
   ]
  },
  {
   "cell_type": "markdown",
   "id": "81917317-6feb-4e67-8eac-6053d6a186de",
   "metadata": {},
   "source": [
    "## Step Four\n",
    "---\n",
    "#### Filter for 3 cities\n",
    "Focusing on the Three Categories\n",
    "The data has many more categories than three, so you will need to filter the dataset by the categories you want. The code below makes a list of the categories you want to keep, then searches through the Category column using the isin() function to keep only those that match.\n",
    "\n"
   ]
  },
  {
   "cell_type": "code",
   "execution_count": 8,
   "id": "b2bbaef1-17ed-4fb9-93fb-4820fa043c4a",
   "metadata": {
    "tags": []
   },
   "outputs": [
    {
     "data": {
      "text/html": [
       "<div>\n",
       "<style scoped>\n",
       "    .dataframe tbody tr th:only-of-type {\n",
       "        vertical-align: middle;\n",
       "    }\n",
       "\n",
       "    .dataframe tbody tr th {\n",
       "        vertical-align: top;\n",
       "    }\n",
       "\n",
       "    .dataframe thead th {\n",
       "        text-align: right;\n",
       "    }\n",
       "</style>\n",
       "<table border=\"1\" class=\"dataframe\">\n",
       "  <thead>\n",
       "    <tr style=\"text-align: right;\">\n",
       "      <th></th>\n",
       "      <th>Date</th>\n",
       "      <th>AveragePrice</th>\n",
       "      <th>Total Volume</th>\n",
       "      <th>4046</th>\n",
       "      <th>4225</th>\n",
       "      <th>4770</th>\n",
       "      <th>Total Bags</th>\n",
       "      <th>Small Bags</th>\n",
       "      <th>Large Bags</th>\n",
       "      <th>XLarge Bags</th>\n",
       "      <th>type</th>\n",
       "      <th>year</th>\n",
       "      <th>region</th>\n",
       "      <th>Season</th>\n",
       "    </tr>\n",
       "  </thead>\n",
       "  <tbody>\n",
       "    <tr>\n",
       "      <th>1248</th>\n",
       "      <td>2015-12-27</td>\n",
       "      <td>0.99</td>\n",
       "      <td>545064.74</td>\n",
       "      <td>387953.32</td>\n",
       "      <td>44652.25</td>\n",
       "      <td>54.44</td>\n",
       "      <td>112404.73</td>\n",
       "      <td>53606.13</td>\n",
       "      <td>58798.60</td>\n",
       "      <td>0.00</td>\n",
       "      <td>conventional</td>\n",
       "      <td>2015</td>\n",
       "      <td>MiamiFtLauderdale</td>\n",
       "      <td>1</td>\n",
       "    </tr>\n",
       "    <tr>\n",
       "      <th>1249</th>\n",
       "      <td>2015-12-20</td>\n",
       "      <td>1.21</td>\n",
       "      <td>350533.71</td>\n",
       "      <td>238269.18</td>\n",
       "      <td>32386.55</td>\n",
       "      <td>92.33</td>\n",
       "      <td>79785.65</td>\n",
       "      <td>50138.45</td>\n",
       "      <td>29624.11</td>\n",
       "      <td>23.09</td>\n",
       "      <td>conventional</td>\n",
       "      <td>2015</td>\n",
       "      <td>MiamiFtLauderdale</td>\n",
       "      <td>1</td>\n",
       "    </tr>\n",
       "    <tr>\n",
       "      <th>1250</th>\n",
       "      <td>2015-12-13</td>\n",
       "      <td>0.97</td>\n",
       "      <td>529317.46</td>\n",
       "      <td>387065.94</td>\n",
       "      <td>49363.20</td>\n",
       "      <td>85.47</td>\n",
       "      <td>92802.85</td>\n",
       "      <td>38463.54</td>\n",
       "      <td>54339.31</td>\n",
       "      <td>0.00</td>\n",
       "      <td>conventional</td>\n",
       "      <td>2015</td>\n",
       "      <td>MiamiFtLauderdale</td>\n",
       "      <td>1</td>\n",
       "    </tr>\n",
       "    <tr>\n",
       "      <th>1251</th>\n",
       "      <td>2015-12-06</td>\n",
       "      <td>1.25</td>\n",
       "      <td>340513.61</td>\n",
       "      <td>247061.97</td>\n",
       "      <td>34861.19</td>\n",
       "      <td>83.27</td>\n",
       "      <td>58507.18</td>\n",
       "      <td>25297.27</td>\n",
       "      <td>33209.91</td>\n",
       "      <td>0.00</td>\n",
       "      <td>conventional</td>\n",
       "      <td>2015</td>\n",
       "      <td>MiamiFtLauderdale</td>\n",
       "      <td>1</td>\n",
       "    </tr>\n",
       "    <tr>\n",
       "      <th>1252</th>\n",
       "      <td>2015-11-29</td>\n",
       "      <td>0.98</td>\n",
       "      <td>470218.14</td>\n",
       "      <td>349408.27</td>\n",
       "      <td>42435.51</td>\n",
       "      <td>70.13</td>\n",
       "      <td>78304.23</td>\n",
       "      <td>27392.48</td>\n",
       "      <td>50911.75</td>\n",
       "      <td>0.00</td>\n",
       "      <td>conventional</td>\n",
       "      <td>2015</td>\n",
       "      <td>MiamiFtLauderdale</td>\n",
       "      <td>4</td>\n",
       "    </tr>\n",
       "  </tbody>\n",
       "</table>\n",
       "</div>"
      ],
      "text/plain": [
       "            Date  AveragePrice  Total Volume       4046      4225   4770  \\\n",
       "1248  2015-12-27          0.99     545064.74  387953.32  44652.25  54.44   \n",
       "1249  2015-12-20          1.21     350533.71  238269.18  32386.55  92.33   \n",
       "1250  2015-12-13          0.97     529317.46  387065.94  49363.20  85.47   \n",
       "1251  2015-12-06          1.25     340513.61  247061.97  34861.19  83.27   \n",
       "1252  2015-11-29          0.98     470218.14  349408.27  42435.51  70.13   \n",
       "\n",
       "      Total Bags  Small Bags  Large Bags  XLarge Bags          type  year  \\\n",
       "1248   112404.73    53606.13    58798.60         0.00  conventional  2015   \n",
       "1249    79785.65    50138.45    29624.11        23.09  conventional  2015   \n",
       "1250    92802.85    38463.54    54339.31         0.00  conventional  2015   \n",
       "1251    58507.18    25297.27    33209.91         0.00  conventional  2015   \n",
       "1252    78304.23    27392.48    50911.75         0.00  conventional  2015   \n",
       "\n",
       "                 region  Season  \n",
       "1248  MiamiFtLauderdale       1  \n",
       "1249  MiamiFtLauderdale       1  \n",
       "1250  MiamiFtLauderdale       1  \n",
       "1251  MiamiFtLauderdale       1  \n",
       "1252  MiamiFtLauderdale       4  "
      ]
     },
     "execution_count": 8,
     "metadata": {},
     "output_type": "execute_result"
    }
   ],
   "source": [
    "df1 = df[df.region.isin(['MiamiFtLauderdale', 'Plains', 'Philadelphia'])]\n",
    "df1.head()"
   ]
  },
  {
   "cell_type": "code",
   "execution_count": 9,
   "id": "ebd5a0ab-4496-4ac0-8449-8876afce1ad9",
   "metadata": {},
   "outputs": [
    {
     "data": {
      "text/plain": [
       "count                  1014\n",
       "unique                    3\n",
       "top       MiamiFtLauderdale\n",
       "freq                    338\n",
       "Name: region, dtype: object"
      ]
     },
     "execution_count": 9,
     "metadata": {},
     "output_type": "execute_result"
    }
   ],
   "source": [
    "df1.region.describe()"
   ]
  },
  {
   "cell_type": "markdown",
   "id": "b924da75-5d7a-4a5b-8d33-e9791b0bc7e3",
   "metadata": {},
   "source": [
    "## Step Five\n",
    "---\n",
    "#### recode 'type' and 'region' columns"
   ]
  },
  {
   "cell_type": "code",
   "execution_count": 10,
   "id": "e875acba-eb8f-414d-9293-e4a1fe247989",
   "metadata": {
    "tags": []
   },
   "outputs": [],
   "source": [
    "def recode(series):\n",
    "    if series == 'conventional':\n",
    "        return 0\n",
    "    if series == 'organic':\n",
    "        return 1\n",
    "    \n",
    "df1['typeR'] = df1['type'].apply(recode)"
   ]
  },
  {
   "cell_type": "code",
   "execution_count": 11,
   "id": "5a095d65-35c8-470c-b9db-2a9e74fe7c80",
   "metadata": {},
   "outputs": [
    {
     "data": {
      "text/html": [
       "<div>\n",
       "<style scoped>\n",
       "    .dataframe tbody tr th:only-of-type {\n",
       "        vertical-align: middle;\n",
       "    }\n",
       "\n",
       "    .dataframe tbody tr th {\n",
       "        vertical-align: top;\n",
       "    }\n",
       "\n",
       "    .dataframe thead th {\n",
       "        text-align: right;\n",
       "    }\n",
       "</style>\n",
       "<table border=\"1\" class=\"dataframe\">\n",
       "  <thead>\n",
       "    <tr style=\"text-align: right;\">\n",
       "      <th></th>\n",
       "      <th>Date</th>\n",
       "      <th>AveragePrice</th>\n",
       "      <th>Total Volume</th>\n",
       "      <th>4046</th>\n",
       "      <th>4225</th>\n",
       "      <th>4770</th>\n",
       "      <th>Total Bags</th>\n",
       "      <th>Small Bags</th>\n",
       "      <th>Large Bags</th>\n",
       "      <th>XLarge Bags</th>\n",
       "      <th>type</th>\n",
       "      <th>year</th>\n",
       "      <th>region</th>\n",
       "      <th>Season</th>\n",
       "      <th>typeR</th>\n",
       "    </tr>\n",
       "  </thead>\n",
       "  <tbody>\n",
       "    <tr>\n",
       "      <th>1248</th>\n",
       "      <td>2015-12-27</td>\n",
       "      <td>0.99</td>\n",
       "      <td>545064.74</td>\n",
       "      <td>387953.32</td>\n",
       "      <td>44652.25</td>\n",
       "      <td>54.44</td>\n",
       "      <td>112404.73</td>\n",
       "      <td>53606.13</td>\n",
       "      <td>58798.60</td>\n",
       "      <td>0.00</td>\n",
       "      <td>conventional</td>\n",
       "      <td>2015</td>\n",
       "      <td>MiamiFtLauderdale</td>\n",
       "      <td>1</td>\n",
       "      <td>0</td>\n",
       "    </tr>\n",
       "    <tr>\n",
       "      <th>1249</th>\n",
       "      <td>2015-12-20</td>\n",
       "      <td>1.21</td>\n",
       "      <td>350533.71</td>\n",
       "      <td>238269.18</td>\n",
       "      <td>32386.55</td>\n",
       "      <td>92.33</td>\n",
       "      <td>79785.65</td>\n",
       "      <td>50138.45</td>\n",
       "      <td>29624.11</td>\n",
       "      <td>23.09</td>\n",
       "      <td>conventional</td>\n",
       "      <td>2015</td>\n",
       "      <td>MiamiFtLauderdale</td>\n",
       "      <td>1</td>\n",
       "      <td>0</td>\n",
       "    </tr>\n",
       "    <tr>\n",
       "      <th>1250</th>\n",
       "      <td>2015-12-13</td>\n",
       "      <td>0.97</td>\n",
       "      <td>529317.46</td>\n",
       "      <td>387065.94</td>\n",
       "      <td>49363.20</td>\n",
       "      <td>85.47</td>\n",
       "      <td>92802.85</td>\n",
       "      <td>38463.54</td>\n",
       "      <td>54339.31</td>\n",
       "      <td>0.00</td>\n",
       "      <td>conventional</td>\n",
       "      <td>2015</td>\n",
       "      <td>MiamiFtLauderdale</td>\n",
       "      <td>1</td>\n",
       "      <td>0</td>\n",
       "    </tr>\n",
       "    <tr>\n",
       "      <th>1251</th>\n",
       "      <td>2015-12-06</td>\n",
       "      <td>1.25</td>\n",
       "      <td>340513.61</td>\n",
       "      <td>247061.97</td>\n",
       "      <td>34861.19</td>\n",
       "      <td>83.27</td>\n",
       "      <td>58507.18</td>\n",
       "      <td>25297.27</td>\n",
       "      <td>33209.91</td>\n",
       "      <td>0.00</td>\n",
       "      <td>conventional</td>\n",
       "      <td>2015</td>\n",
       "      <td>MiamiFtLauderdale</td>\n",
       "      <td>1</td>\n",
       "      <td>0</td>\n",
       "    </tr>\n",
       "    <tr>\n",
       "      <th>1252</th>\n",
       "      <td>2015-11-29</td>\n",
       "      <td>0.98</td>\n",
       "      <td>470218.14</td>\n",
       "      <td>349408.27</td>\n",
       "      <td>42435.51</td>\n",
       "      <td>70.13</td>\n",
       "      <td>78304.23</td>\n",
       "      <td>27392.48</td>\n",
       "      <td>50911.75</td>\n",
       "      <td>0.00</td>\n",
       "      <td>conventional</td>\n",
       "      <td>2015</td>\n",
       "      <td>MiamiFtLauderdale</td>\n",
       "      <td>4</td>\n",
       "      <td>0</td>\n",
       "    </tr>\n",
       "  </tbody>\n",
       "</table>\n",
       "</div>"
      ],
      "text/plain": [
       "            Date  AveragePrice  Total Volume       4046      4225   4770  \\\n",
       "1248  2015-12-27          0.99     545064.74  387953.32  44652.25  54.44   \n",
       "1249  2015-12-20          1.21     350533.71  238269.18  32386.55  92.33   \n",
       "1250  2015-12-13          0.97     529317.46  387065.94  49363.20  85.47   \n",
       "1251  2015-12-06          1.25     340513.61  247061.97  34861.19  83.27   \n",
       "1252  2015-11-29          0.98     470218.14  349408.27  42435.51  70.13   \n",
       "\n",
       "      Total Bags  Small Bags  Large Bags  XLarge Bags          type  year  \\\n",
       "1248   112404.73    53606.13    58798.60         0.00  conventional  2015   \n",
       "1249    79785.65    50138.45    29624.11        23.09  conventional  2015   \n",
       "1250    92802.85    38463.54    54339.31         0.00  conventional  2015   \n",
       "1251    58507.18    25297.27    33209.91         0.00  conventional  2015   \n",
       "1252    78304.23    27392.48    50911.75         0.00  conventional  2015   \n",
       "\n",
       "                 region  Season  typeR  \n",
       "1248  MiamiFtLauderdale       1      0  \n",
       "1249  MiamiFtLauderdale       1      0  \n",
       "1250  MiamiFtLauderdale       1      0  \n",
       "1251  MiamiFtLauderdale       1      0  \n",
       "1252  MiamiFtLauderdale       4      0  "
      ]
     },
     "execution_count": 11,
     "metadata": {},
     "output_type": "execute_result"
    }
   ],
   "source": [
    "df1.head()"
   ]
  },
  {
   "cell_type": "code",
   "execution_count": 12,
   "id": "0744ddf0-3a54-4d06-a5e9-9c8758d11acc",
   "metadata": {
    "tags": []
   },
   "outputs": [],
   "source": [
    "def recode(series):\n",
    "    if series == 'MiamiFtLauderdale':\n",
    "        return 0\n",
    "    if series == 'Plains':\n",
    "        return 1\n",
    "    if series == 'Philadelphia':\n",
    "        return 2\n",
    "    \n",
    "df1['regionR'] = df1['region'].apply(recode)"
   ]
  },
  {
   "cell_type": "code",
   "execution_count": 13,
   "id": "cee43e21-8a74-4470-ad36-f244059ba316",
   "metadata": {
    "tags": []
   },
   "outputs": [
    {
     "data": {
      "text/html": [
       "<div>\n",
       "<style scoped>\n",
       "    .dataframe tbody tr th:only-of-type {\n",
       "        vertical-align: middle;\n",
       "    }\n",
       "\n",
       "    .dataframe tbody tr th {\n",
       "        vertical-align: top;\n",
       "    }\n",
       "\n",
       "    .dataframe thead th {\n",
       "        text-align: right;\n",
       "    }\n",
       "</style>\n",
       "<table border=\"1\" class=\"dataframe\">\n",
       "  <thead>\n",
       "    <tr style=\"text-align: right;\">\n",
       "      <th></th>\n",
       "      <th>Date</th>\n",
       "      <th>AveragePrice</th>\n",
       "      <th>Total Volume</th>\n",
       "      <th>4046</th>\n",
       "      <th>4225</th>\n",
       "      <th>4770</th>\n",
       "      <th>Total Bags</th>\n",
       "      <th>Small Bags</th>\n",
       "      <th>Large Bags</th>\n",
       "      <th>XLarge Bags</th>\n",
       "      <th>type</th>\n",
       "      <th>year</th>\n",
       "      <th>region</th>\n",
       "      <th>Season</th>\n",
       "      <th>typeR</th>\n",
       "      <th>regionR</th>\n",
       "    </tr>\n",
       "  </thead>\n",
       "  <tbody>\n",
       "    <tr>\n",
       "      <th>1248</th>\n",
       "      <td>2015-12-27</td>\n",
       "      <td>0.99</td>\n",
       "      <td>545064.74</td>\n",
       "      <td>387953.32</td>\n",
       "      <td>44652.25</td>\n",
       "      <td>54.44</td>\n",
       "      <td>112404.73</td>\n",
       "      <td>53606.13</td>\n",
       "      <td>58798.60</td>\n",
       "      <td>0.00</td>\n",
       "      <td>conventional</td>\n",
       "      <td>2015</td>\n",
       "      <td>MiamiFtLauderdale</td>\n",
       "      <td>1</td>\n",
       "      <td>0</td>\n",
       "      <td>0</td>\n",
       "    </tr>\n",
       "    <tr>\n",
       "      <th>1249</th>\n",
       "      <td>2015-12-20</td>\n",
       "      <td>1.21</td>\n",
       "      <td>350533.71</td>\n",
       "      <td>238269.18</td>\n",
       "      <td>32386.55</td>\n",
       "      <td>92.33</td>\n",
       "      <td>79785.65</td>\n",
       "      <td>50138.45</td>\n",
       "      <td>29624.11</td>\n",
       "      <td>23.09</td>\n",
       "      <td>conventional</td>\n",
       "      <td>2015</td>\n",
       "      <td>MiamiFtLauderdale</td>\n",
       "      <td>1</td>\n",
       "      <td>0</td>\n",
       "      <td>0</td>\n",
       "    </tr>\n",
       "    <tr>\n",
       "      <th>1250</th>\n",
       "      <td>2015-12-13</td>\n",
       "      <td>0.97</td>\n",
       "      <td>529317.46</td>\n",
       "      <td>387065.94</td>\n",
       "      <td>49363.20</td>\n",
       "      <td>85.47</td>\n",
       "      <td>92802.85</td>\n",
       "      <td>38463.54</td>\n",
       "      <td>54339.31</td>\n",
       "      <td>0.00</td>\n",
       "      <td>conventional</td>\n",
       "      <td>2015</td>\n",
       "      <td>MiamiFtLauderdale</td>\n",
       "      <td>1</td>\n",
       "      <td>0</td>\n",
       "      <td>0</td>\n",
       "    </tr>\n",
       "    <tr>\n",
       "      <th>1251</th>\n",
       "      <td>2015-12-06</td>\n",
       "      <td>1.25</td>\n",
       "      <td>340513.61</td>\n",
       "      <td>247061.97</td>\n",
       "      <td>34861.19</td>\n",
       "      <td>83.27</td>\n",
       "      <td>58507.18</td>\n",
       "      <td>25297.27</td>\n",
       "      <td>33209.91</td>\n",
       "      <td>0.00</td>\n",
       "      <td>conventional</td>\n",
       "      <td>2015</td>\n",
       "      <td>MiamiFtLauderdale</td>\n",
       "      <td>1</td>\n",
       "      <td>0</td>\n",
       "      <td>0</td>\n",
       "    </tr>\n",
       "    <tr>\n",
       "      <th>1252</th>\n",
       "      <td>2015-11-29</td>\n",
       "      <td>0.98</td>\n",
       "      <td>470218.14</td>\n",
       "      <td>349408.27</td>\n",
       "      <td>42435.51</td>\n",
       "      <td>70.13</td>\n",
       "      <td>78304.23</td>\n",
       "      <td>27392.48</td>\n",
       "      <td>50911.75</td>\n",
       "      <td>0.00</td>\n",
       "      <td>conventional</td>\n",
       "      <td>2015</td>\n",
       "      <td>MiamiFtLauderdale</td>\n",
       "      <td>4</td>\n",
       "      <td>0</td>\n",
       "      <td>0</td>\n",
       "    </tr>\n",
       "  </tbody>\n",
       "</table>\n",
       "</div>"
      ],
      "text/plain": [
       "            Date  AveragePrice  Total Volume       4046      4225   4770  \\\n",
       "1248  2015-12-27          0.99     545064.74  387953.32  44652.25  54.44   \n",
       "1249  2015-12-20          1.21     350533.71  238269.18  32386.55  92.33   \n",
       "1250  2015-12-13          0.97     529317.46  387065.94  49363.20  85.47   \n",
       "1251  2015-12-06          1.25     340513.61  247061.97  34861.19  83.27   \n",
       "1252  2015-11-29          0.98     470218.14  349408.27  42435.51  70.13   \n",
       "\n",
       "      Total Bags  Small Bags  Large Bags  XLarge Bags          type  year  \\\n",
       "1248   112404.73    53606.13    58798.60         0.00  conventional  2015   \n",
       "1249    79785.65    50138.45    29624.11        23.09  conventional  2015   \n",
       "1250    92802.85    38463.54    54339.31         0.00  conventional  2015   \n",
       "1251    58507.18    25297.27    33209.91         0.00  conventional  2015   \n",
       "1252    78304.23    27392.48    50911.75         0.00  conventional  2015   \n",
       "\n",
       "                 region  Season  typeR  regionR  \n",
       "1248  MiamiFtLauderdale       1      0        0  \n",
       "1249  MiamiFtLauderdale       1      0        0  \n",
       "1250  MiamiFtLauderdale       1      0        0  \n",
       "1251  MiamiFtLauderdale       1      0        0  \n",
       "1252  MiamiFtLauderdale       4      0        0  "
      ]
     },
     "execution_count": 13,
     "metadata": {},
     "output_type": "execute_result"
    }
   ],
   "source": [
    "df1.head()"
   ]
  },
  {
   "cell_type": "markdown",
   "id": "1086f014-28d4-45b7-89c5-3dd5e641f2af",
   "metadata": {},
   "source": [
    "## Step Six\n",
    "---\n",
    "#### Test for assumptions\n",
    "\n",
    "- Normality\n",
    "- Homogeneity of Variance"
   ]
  },
  {
   "cell_type": "code",
   "execution_count": 14,
   "id": "4b4ee8e1-2294-447a-94bd-6c9f984907dc",
   "metadata": {
    "tags": []
   },
   "outputs": [
    {
     "data": {
      "text/plain": [
       "<seaborn.axisgrid.FacetGrid at 0x1ff6d9db0d0>"
      ]
     },
     "execution_count": 14,
     "metadata": {},
     "output_type": "execute_result"
    },
    {
     "data": {
      "image/png": "[encoded data removed]",
      "text/plain": [
       "<Figure size 360x360 with 1 Axes>"
      ]
     },
     "metadata": {
      "needs_background": "light"
     },
     "output_type": "display_data"
    },
    {
     "data": {
      "image/png": "[encoded data removed]",
      "text/plain": [
       "<Figure size 360x360 with 1 Axes>"
      ]
     },
     "metadata": {
      "needs_background": "light"
     },
     "output_type": "display_data"
    },
    {
     "data": {
      "image/png": "[encoded data removed]",
      "text/plain": [
       "<Figure size 360x360 with 1 Axes>"
      ]
     },
     "metadata": {
      "needs_background": "light"
     },
     "output_type": "display_data"
    }
   ],
   "source": [
    "plt.style.use('fivethirtyeight')\n",
    "\n",
    "#Without Transformation\n",
    "sns.displot(df1['Total Volume'], kde = True).set(title='Without Transformation')\n",
    "\n",
    "#With Square Root Transformation\n",
    "sns.displot(np.sqrt(df1['Total Volume']), kde = True).set(title='With Square Root Transformation')\n",
    "\n",
    "#With Log Transformation\n",
    "sns.displot(np.log(df1['Total Volume']), kde = True).set(title='With Log Transformation')"
   ]
  },
  {
   "cell_type": "code",
   "execution_count": 16,
   "id": "eaf7cf00-2a94-44ed-b215-22ea8d264507",
   "metadata": {
    "tags": []
   },
   "outputs": [],
   "source": [
    "#perform log transformation\n",
    "df1['Total Volume_log'] = np.log(df1['Total Volume'])"
   ]
  },
  {
   "cell_type": "code",
   "execution_count": 17,
   "id": "4419d018-921c-4aa7-986a-3b813eda9fd6",
   "metadata": {
    "tags": []
   },
   "outputs": [
    {
     "data": {
      "text/plain": [
       "BartlettResult(statistic=943.6595048700832, pvalue=3.169680667914177e-207)"
      ]
     },
     "execution_count": 17,
     "metadata": {},
     "output_type": "execute_result"
    }
   ],
   "source": [
    "bartlett(df1[\"Total Volume_log\"], df1[\"regionR\"])"
   ]
  },
  {
   "cell_type": "markdown",
   "id": "910c870c-14c5-4635-9143-ee69458d07f8",
   "metadata": {},
   "source": [
    "## explain your results\n",
    "#### With the normal and squareroot transformations, there wasn't a normal distribution of the total volume, the best fit transformation was with log.\n",
    "#### We are looking for a non-significant test. The null hypothesis for both of these is that the data has equal variance, so you'd like to have a p value of > .05. \n",
    "### With this test the pvalue is < .05, which means that unfortunately, you have violated the assumption of homogeneity of variance. However, we know that each city doesn't impact the other cities chosen. So we will move ahead knowing we don't have cities close to eachother."
   ]
  },
  {
   "cell_type": "code",
   "execution_count": 18,
   "id": "f40ec61c-e88b-479f-a92c-1d47cf8e5859",
   "metadata": {
    "tags": []
   },
   "outputs": [
    {
     "data": {
      "text/plain": [
       "F_onewayResult(statistic=156.28438428078067, pvalue=7.225167625349979e-60)"
      ]
     },
     "execution_count": 18,
     "metadata": {},
     "output_type": "execute_result"
    }
   ],
   "source": [
    "f_oneway(\n",
    "    df[\"Total Volume\"][df[\"region\"]=='MiamiFtLauderdale'],\n",
    "    df[\"Total Volume\"][df[\"region\"]=='Plains'],\n",
    "    df[\"Total Volume\"][df[\"region\"]=='Philadelphia']\n",
    ")"
   ]
  },
  {
   "cell_type": "markdown",
   "id": "3363652d-cd07-4cc8-a4cb-bc2e0b88078e",
   "metadata": {},
   "source": [
    "## explain your results\n",
    "### Here again our pvalue is less than .05, there is a significant difference between these three categories or regions/cities."
   ]
  },
  {
   "cell_type": "code",
   "execution_count": 19,
   "id": "be79c401-2e08-475e-a710-a9ecbf9b9fc2",
   "metadata": {
    "tags": []
   },
   "outputs": [
    {
     "name": "stdout",
     "output_type": "stream",
     "text": [
      "        Multiple Comparison of Means - Tukey HSD, FWER=0.05        \n",
      "===================================================================\n",
      "      group1         group2    meandiff p-adj  lower  upper  reject\n",
      "-------------------------------------------------------------------\n",
      "MiamiFtLauderdale Philadelphia   0.4573 0.0169 0.0664 0.8482   True\n",
      "MiamiFtLauderdale       Plains   1.9345    0.0 1.5436 2.3254   True\n",
      "     Philadelphia       Plains   1.4772    0.0 1.0863 1.8681   True\n",
      "-------------------------------------------------------------------\n"
     ]
    }
   ],
   "source": [
    "postHocResults = MultiComparison(df1[\"Total Volume_log\"], df1[\"region\"]).tukeyhsd()\n",
    "print(postHocResults)"
   ]
  },
  {
   "cell_type": "markdown",
   "id": "06ee036c-3f58-4b57-9a03-880c2fd5e5ac",
   "metadata": {},
   "source": [
    "## explain your results\n",
    "### This output provides you with the mean difference in the number of reviews per comparison, plus the confidence interval (lower and upper columns), and whether or not you can reject the null hypothesis. If the value in the reject column is True, then this means there was a significant difference in the means between those groups.\n",
    "\n",
    "### So, there is a significant difference between the consumption of Avocados between all 3 of the Cities/Regions.\n",
    "\n",
    "### Let's move on to step 7 to find out what the differences are:"
   ]
  },
  {
   "cell_type": "markdown",
   "id": "8e45ed2c-d853-4b31-9018-b34ca40eb3fe",
   "metadata": {},
   "source": [
    "## Step Seven\n",
    "---"
   ]
  },
  {
   "cell_type": "code",
   "execution_count": 20,
   "id": "e5de62d7-45df-47c2-8986-07f767636a88",
   "metadata": {
    "tags": []
   },
   "outputs": [
    {
     "data": {
      "text/html": [
       "<div>\n",
       "<style scoped>\n",
       "    .dataframe tbody tr th:only-of-type {\n",
       "        vertical-align: middle;\n",
       "    }\n",
       "\n",
       "    .dataframe tbody tr th {\n",
       "        vertical-align: top;\n",
       "    }\n",
       "\n",
       "    .dataframe thead th {\n",
       "        text-align: right;\n",
       "    }\n",
       "</style>\n",
       "<table border=\"1\" class=\"dataframe\">\n",
       "  <thead>\n",
       "    <tr style=\"text-align: right;\">\n",
       "      <th></th>\n",
       "      <th>Total Volume</th>\n",
       "    </tr>\n",
       "    <tr>\n",
       "      <th>region</th>\n",
       "      <th></th>\n",
       "    </tr>\n",
       "  </thead>\n",
       "  <tbody>\n",
       "    <tr>\n",
       "      <th>MiamiFtLauderdale</th>\n",
       "      <td>288974.035592</td>\n",
       "    </tr>\n",
       "    <tr>\n",
       "      <th>Philadelphia</th>\n",
       "      <td>212540.823018</td>\n",
       "    </tr>\n",
       "    <tr>\n",
       "      <th>Plains</th>\n",
       "      <td>920676.121627</td>\n",
       "    </tr>\n",
       "  </tbody>\n",
       "</table>\n",
       "</div>"
      ],
      "text/plain": [
       "                    Total Volume\n",
       "region                          \n",
       "MiamiFtLauderdale  288974.035592\n",
       "Philadelphia       212540.823018\n",
       "Plains             920676.121627"
      ]
     },
     "execution_count": 20,
     "metadata": {},
     "output_type": "execute_result"
    }
   ],
   "source": [
    "df2 = df1[['region', 'Total Volume']]\n",
    "\n",
    "df2.groupby('region').mean()"
   ]
  },
  {
   "cell_type": "markdown",
   "id": "c24b5ec0-b4ab-4af0-ac87-497fd9d80056",
   "metadata": {},
   "source": [
    "#explain your results\n",
    "### There is a significant difference in the 3 cities/regions we've chosen. \n",
    "### The Plains consume the most avocados, more than 3 times what Philadephia and MiamiFtLauderdale consume. \n",
    "### MiamiFtLauderdale and Philadelphia do consume about the same amount of Avocados, but you can see MiamiFtLauderdale consumes about 1/6 more than Philadelphia."
   ]
  },
  {
   "cell_type": "markdown",
   "id": "1c7ded2f-e712-413c-aeaa-9d604bc0a221",
   "metadata": {},
   "source": [
    "# Let's look at How the 3 cities Average Price of Avocados compare to eachother."
   ]
  },
  {
   "cell_type": "markdown",
   "id": "984734bf-6640-4e0e-8ffa-819dad0e757b",
   "metadata": {},
   "source": [
    "### Test for assumptions\n",
    "#### -Normality\n",
    "#### -Homogeneity of Variance"
   ]
  },
  {
   "cell_type": "code",
   "execution_count": 21,
   "id": "025ca6d3-fc00-4003-b7d8-b70078adde6a",
   "metadata": {},
   "outputs": [
    {
     "data": {
      "text/plain": [
       "<seaborn.axisgrid.FacetGrid at 0x1ff73181120>"
      ]
     },
     "execution_count": 21,
     "metadata": {},
     "output_type": "execute_result"
    },
    {
     "data": {
      "image/png": "[encoded data removed]",
      "text/plain": [
       "<Figure size 360x360 with 1 Axes>"
      ]
     },
     "metadata": {
      "needs_background": "light"
     },
     "output_type": "display_data"
    },
    {
     "data": {
      "image/png": "[encoded data removed]",
      "text/plain": [
       "<Figure size 360x360 with 1 Axes>"
      ]
     },
     "metadata": {
      "needs_background": "light"
     },
     "output_type": "display_data"
    },
    {
     "data": {
      "image/png": "[encoded data removed]",
      "text/plain": [
       "<Figure size 360x360 with 1 Axes>"
      ]
     },
     "metadata": {
      "needs_background": "light"
     },
     "output_type": "display_data"
    }
   ],
   "source": [
    "#Without Transformation\n",
    "sns.displot(df1['AveragePrice'], kde = True).set(title='Without Transformation')\n",
    "\n",
    "#With Square Root Transformation\n",
    "sns.displot(np.sqrt(df1['AveragePrice']), kde = True).set(title='With Square Root Transformation')\n",
    "\n",
    "#With Log Transformation\n",
    "sns.displot(np.log(df1['AveragePrice']), kde = True).set(title='With Log Transformation')"
   ]
  },
  {
   "cell_type": "code",
   "execution_count": 22,
   "id": "ca57eeb5-620c-4500-8a0d-2fc1b18b8ca0",
   "metadata": {},
   "outputs": [],
   "source": [
    "#perform Square Root Transformation\n",
    "df1['AveragePrice_sqrt'] = np.sqrt(df1['AveragePrice'])"
   ]
  },
  {
   "cell_type": "code",
   "execution_count": 23,
   "id": "240ad90e-e6ac-41fa-a1cf-08a6c235c9e3",
   "metadata": {},
   "outputs": [
    {
     "data": {
      "text/plain": [
       "BartlettResult(statistic=2241.4760176039435, pvalue=0.0)"
      ]
     },
     "execution_count": 23,
     "metadata": {},
     "output_type": "execute_result"
    }
   ],
   "source": [
    "bartlett(df1[\"AveragePrice_sqrt\"], df1[\"regionR\"])"
   ]
  },
  {
   "cell_type": "markdown",
   "id": "04921f9f-bd09-4e62-8b93-114986c653f1",
   "metadata": {},
   "source": [
    "## explain your results\n",
    "### The square root transformation was our best option for testing normality\n",
    "### The bartlett test shows a pvalue of 0.0 meaning it is < .05 there is a significant difference in the average price of Avocados for each of the 3 regions/cities. Let's keep looking to find out how much different."
   ]
  },
  {
   "cell_type": "code",
   "execution_count": 24,
   "id": "1b1a75fe-5104-49c0-8002-da39d8ed4451",
   "metadata": {},
   "outputs": [
    {
     "data": {
      "text/plain": [
       "F_onewayResult(statistic=41.84222514385266, pvalue=3.476525251220118e-18)"
      ]
     },
     "execution_count": 24,
     "metadata": {},
     "output_type": "execute_result"
    }
   ],
   "source": [
    "f_oneway(\n",
    "    df[\"AveragePrice\"][df[\"region\"]=='MiamiFtLauderdale'],\n",
    "    df[\"AveragePrice\"][df[\"region\"]=='Plains'],\n",
    "    df[\"AveragePrice\"][df[\"region\"]=='Philadelphia']\n",
    ")"
   ]
  },
  {
   "cell_type": "markdown",
   "id": "346505e9-b3a7-476b-bbfc-7c0a0f99df2c",
   "metadata": {},
   "source": [
    "### Here again our pvalue is less than .05, this confirms there is a significant difference in the average price between these three regions/cities."
   ]
  },
  {
   "cell_type": "code",
   "execution_count": 25,
   "id": "ff6ca893-9591-4e82-b616-88bf104a6a9a",
   "metadata": {},
   "outputs": [
    {
     "name": "stdout",
     "output_type": "stream",
     "text": [
      "         Multiple Comparison of Means - Tukey HSD, FWER=0.05         \n",
      "=====================================================================\n",
      "      group1         group2    meandiff p-adj   lower   upper  reject\n",
      "---------------------------------------------------------------------\n",
      "MiamiFtLauderdale Philadelphia    0.084    0.0  0.0599  0.1081   True\n",
      "MiamiFtLauderdale       Plains   0.0032 0.9469 -0.0209  0.0273  False\n",
      "     Philadelphia       Plains  -0.0808    0.0 -0.1049 -0.0567   True\n",
      "---------------------------------------------------------------------\n"
     ]
    }
   ],
   "source": [
    "postHocResults = MultiComparison(df1[\"AveragePrice_sqrt\"], df1[\"region\"]).tukeyhsd()\n",
    "print(postHocResults)"
   ]
  },
  {
   "cell_type": "markdown",
   "id": "0c21dbed-3f02-46a2-b963-63edb6861217",
   "metadata": {},
   "source": [
    "### This output provides you with the mean difference in the number of reviews per comparison, plus the confidence interval (lower and upper columns), and whether or not you can reject the null hypothesis. If the value in the reject column is True, then this means there was a significant difference in the means between those groups.\n",
    "### The postHocResults output tells us we can rejct the null hypothesis with Philadephia in comparison to both of the other regions. However, for MiamiFtLauderdal in comparison with the Plains we will acept the null hypothesis. \n",
    "### Let's move on to find out where the differences are:"
   ]
  },
  {
   "cell_type": "code",
   "execution_count": 26,
   "id": "2d719abb-2c69-4084-a9dc-ae32378aed5f",
   "metadata": {},
   "outputs": [
    {
     "data": {
      "text/html": [
       "<div>\n",
       "<style scoped>\n",
       "    .dataframe tbody tr th:only-of-type {\n",
       "        vertical-align: middle;\n",
       "    }\n",
       "\n",
       "    .dataframe tbody tr th {\n",
       "        vertical-align: top;\n",
       "    }\n",
       "\n",
       "    .dataframe thead th {\n",
       "        text-align: right;\n",
       "    }\n",
       "</style>\n",
       "<table border=\"1\" class=\"dataframe\">\n",
       "  <thead>\n",
       "    <tr style=\"text-align: right;\">\n",
       "      <th></th>\n",
       "      <th>AveragePrice</th>\n",
       "    </tr>\n",
       "    <tr>\n",
       "      <th>region</th>\n",
       "      <th></th>\n",
       "    </tr>\n",
       "  </thead>\n",
       "  <tbody>\n",
       "    <tr>\n",
       "      <th>MiamiFtLauderdale</th>\n",
       "      <td>1.428491</td>\n",
       "    </tr>\n",
       "    <tr>\n",
       "      <th>Philadelphia</th>\n",
       "      <td>1.632130</td>\n",
       "    </tr>\n",
       "    <tr>\n",
       "      <th>Plains</th>\n",
       "      <td>1.436509</td>\n",
       "    </tr>\n",
       "  </tbody>\n",
       "</table>\n",
       "</div>"
      ],
      "text/plain": [
       "                   AveragePrice\n",
       "region                         \n",
       "MiamiFtLauderdale      1.428491\n",
       "Philadelphia           1.632130\n",
       "Plains                 1.436509"
      ]
     },
     "execution_count": 26,
     "metadata": {},
     "output_type": "execute_result"
    }
   ],
   "source": [
    "df3 = df1[['region', 'AveragePrice']]\n",
    "\n",
    "df3.groupby('region').mean()"
   ]
  },
  {
   "cell_type": "markdown",
   "id": "e7fc3456-ffa3-43e0-9cca-b1b2347610ed",
   "metadata": {},
   "source": [
    "### This gives us a much clearer look at the Average price per region. We can see that there is only a penny difference between MiamiFtLauderdale and the Plains; which is not significant at all. Whereas Philadelphia is 20 cents more than the Plains and 21 cents more than MiamiFtLauderdale. which would be more significant in comparison."
   ]
  },
  {
   "cell_type": "markdown",
   "id": "1210c91d-6afc-48dd-aebe-8496940066ac",
   "metadata": {},
   "source": [
    "## That was fun! Now let's see which size bag of Avocados on average sells the most during each season.\n",
    "#### We will use a MANOVA (Multivariate Analysis of Variance) test, which will allow us to determine if there is a significant interaction between the two factors (bag size and season). \n",
    "#### The independent variable will be season, this a categorical variable and has 4 levels. The three dependent variables will be the bag size of avocados, these variables are continuous."
   ]
  },
  {
   "cell_type": "markdown",
   "id": "54c4a96f-2e0b-46cf-aba3-d8e19cae177a",
   "metadata": {},
   "source": [
    "## Data Wrangling\n",
    "#### First, we will need to reframe seasons from numrical to categorical. So some wrangling is required to test for assumptions. \n",
    "#### Next, In order to test for multivariate normality, we will need to create a dataset containing only the three dependent variables that is in a matrix format, and we will need to ensure that they are numeric. \n",
    "\n",
    "#### needed to add these two libraries for analysis. they are added with other libraries at the begining of notebook: \n",
    "##### import pingouin as pg\n",
    "##### from scipy.stats import shapiro"
   ]
  },
  {
   "cell_type": "code",
   "execution_count": 30,
   "id": "1f99fe22-dfaf-40c4-b0e3-2b85ab30522b",
   "metadata": {},
   "outputs": [],
   "source": [
    "# create a dictionary to map numerical seasons to categorical seasons\n",
    "season_dict = {1: 'Winter', 2: 'Spring', 3: 'Summer', 4: 'Fall'}\n",
    "\n",
    "# replace numerical seasons with categorical seasons using the dictionary\n",
    "df1['SeasonR'] = df1['Season'].replace(season_dict)"
   ]
  },
  {
   "cell_type": "code",
   "execution_count": 31,
   "id": "a2cac09a-8360-4d7d-840e-071d43f523a6",
   "metadata": {},
   "outputs": [
    {
     "data": {
      "text/html": [
       "<div>\n",
       "<style scoped>\n",
       "    .dataframe tbody tr th:only-of-type {\n",
       "        vertical-align: middle;\n",
       "    }\n",
       "\n",
       "    .dataframe tbody tr th {\n",
       "        vertical-align: top;\n",
       "    }\n",
       "\n",
       "    .dataframe thead th {\n",
       "        text-align: right;\n",
       "    }\n",
       "</style>\n",
       "<table border=\"1\" class=\"dataframe\">\n",
       "  <thead>\n",
       "    <tr style=\"text-align: right;\">\n",
       "      <th></th>\n",
       "      <th>Date</th>\n",
       "      <th>AveragePrice</th>\n",
       "      <th>Total Volume</th>\n",
       "      <th>4046</th>\n",
       "      <th>4225</th>\n",
       "      <th>4770</th>\n",
       "      <th>Total Bags</th>\n",
       "      <th>Small Bags</th>\n",
       "      <th>Large Bags</th>\n",
       "      <th>XLarge Bags</th>\n",
       "      <th>type</th>\n",
       "      <th>year</th>\n",
       "      <th>region</th>\n",
       "      <th>Season</th>\n",
       "      <th>typeR</th>\n",
       "      <th>regionR</th>\n",
       "      <th>Total Volume_log</th>\n",
       "      <th>AveragePrice_sqrt</th>\n",
       "      <th>SeasonR</th>\n",
       "    </tr>\n",
       "  </thead>\n",
       "  <tbody>\n",
       "    <tr>\n",
       "      <th>1248</th>\n",
       "      <td>2015-12-27</td>\n",
       "      <td>0.99</td>\n",
       "      <td>545064.74</td>\n",
       "      <td>387953.32</td>\n",
       "      <td>44652.25</td>\n",
       "      <td>54.44</td>\n",
       "      <td>112404.73</td>\n",
       "      <td>53606.13</td>\n",
       "      <td>58798.60</td>\n",
       "      <td>0.00</td>\n",
       "      <td>conventional</td>\n",
       "      <td>2015</td>\n",
       "      <td>MiamiFtLauderdale</td>\n",
       "      <td>1</td>\n",
       "      <td>0</td>\n",
       "      <td>0</td>\n",
       "      <td>13.208660</td>\n",
       "      <td>0.994987</td>\n",
       "      <td>Winter</td>\n",
       "    </tr>\n",
       "    <tr>\n",
       "      <th>1249</th>\n",
       "      <td>2015-12-20</td>\n",
       "      <td>1.21</td>\n",
       "      <td>350533.71</td>\n",
       "      <td>238269.18</td>\n",
       "      <td>32386.55</td>\n",
       "      <td>92.33</td>\n",
       "      <td>79785.65</td>\n",
       "      <td>50138.45</td>\n",
       "      <td>29624.11</td>\n",
       "      <td>23.09</td>\n",
       "      <td>conventional</td>\n",
       "      <td>2015</td>\n",
       "      <td>MiamiFtLauderdale</td>\n",
       "      <td>1</td>\n",
       "      <td>0</td>\n",
       "      <td>0</td>\n",
       "      <td>12.767212</td>\n",
       "      <td>1.100000</td>\n",
       "      <td>Winter</td>\n",
       "    </tr>\n",
       "    <tr>\n",
       "      <th>1250</th>\n",
       "      <td>2015-12-13</td>\n",
       "      <td>0.97</td>\n",
       "      <td>529317.46</td>\n",
       "      <td>387065.94</td>\n",
       "      <td>49363.20</td>\n",
       "      <td>85.47</td>\n",
       "      <td>92802.85</td>\n",
       "      <td>38463.54</td>\n",
       "      <td>54339.31</td>\n",
       "      <td>0.00</td>\n",
       "      <td>conventional</td>\n",
       "      <td>2015</td>\n",
       "      <td>MiamiFtLauderdale</td>\n",
       "      <td>1</td>\n",
       "      <td>0</td>\n",
       "      <td>0</td>\n",
       "      <td>13.179344</td>\n",
       "      <td>0.984886</td>\n",
       "      <td>Winter</td>\n",
       "    </tr>\n",
       "    <tr>\n",
       "      <th>1251</th>\n",
       "      <td>2015-12-06</td>\n",
       "      <td>1.25</td>\n",
       "      <td>340513.61</td>\n",
       "      <td>247061.97</td>\n",
       "      <td>34861.19</td>\n",
       "      <td>83.27</td>\n",
       "      <td>58507.18</td>\n",
       "      <td>25297.27</td>\n",
       "      <td>33209.91</td>\n",
       "      <td>0.00</td>\n",
       "      <td>conventional</td>\n",
       "      <td>2015</td>\n",
       "      <td>MiamiFtLauderdale</td>\n",
       "      <td>1</td>\n",
       "      <td>0</td>\n",
       "      <td>0</td>\n",
       "      <td>12.738210</td>\n",
       "      <td>1.118034</td>\n",
       "      <td>Winter</td>\n",
       "    </tr>\n",
       "    <tr>\n",
       "      <th>1252</th>\n",
       "      <td>2015-11-29</td>\n",
       "      <td>0.98</td>\n",
       "      <td>470218.14</td>\n",
       "      <td>349408.27</td>\n",
       "      <td>42435.51</td>\n",
       "      <td>70.13</td>\n",
       "      <td>78304.23</td>\n",
       "      <td>27392.48</td>\n",
       "      <td>50911.75</td>\n",
       "      <td>0.00</td>\n",
       "      <td>conventional</td>\n",
       "      <td>2015</td>\n",
       "      <td>MiamiFtLauderdale</td>\n",
       "      <td>4</td>\n",
       "      <td>0</td>\n",
       "      <td>0</td>\n",
       "      <td>13.060952</td>\n",
       "      <td>0.989949</td>\n",
       "      <td>Fall</td>\n",
       "    </tr>\n",
       "  </tbody>\n",
       "</table>\n",
       "</div>"
      ],
      "text/plain": [
       "            Date  AveragePrice  Total Volume       4046      4225   4770  \\\n",
       "1248  2015-12-27          0.99     545064.74  387953.32  44652.25  54.44   \n",
       "1249  2015-12-20          1.21     350533.71  238269.18  32386.55  92.33   \n",
       "1250  2015-12-13          0.97     529317.46  387065.94  49363.20  85.47   \n",
       "1251  2015-12-06          1.25     340513.61  247061.97  34861.19  83.27   \n",
       "1252  2015-11-29          0.98     470218.14  349408.27  42435.51  70.13   \n",
       "\n",
       "      Total Bags  Small Bags  Large Bags  XLarge Bags          type  year  \\\n",
       "1248   112404.73    53606.13    58798.60         0.00  conventional  2015   \n",
       "1249    79785.65    50138.45    29624.11        23.09  conventional  2015   \n",
       "1250    92802.85    38463.54    54339.31         0.00  conventional  2015   \n",
       "1251    58507.18    25297.27    33209.91         0.00  conventional  2015   \n",
       "1252    78304.23    27392.48    50911.75         0.00  conventional  2015   \n",
       "\n",
       "                 region  Season  typeR  regionR  Total Volume_log  \\\n",
       "1248  MiamiFtLauderdale       1      0        0         13.208660   \n",
       "1249  MiamiFtLauderdale       1      0        0         12.767212   \n",
       "1250  MiamiFtLauderdale       1      0        0         13.179344   \n",
       "1251  MiamiFtLauderdale       1      0        0         12.738210   \n",
       "1252  MiamiFtLauderdale       4      0        0         13.060952   \n",
       "\n",
       "      AveragePrice_sqrt SeasonR  \n",
       "1248           0.994987  Winter  \n",
       "1249           1.100000  Winter  \n",
       "1250           0.984886  Winter  \n",
       "1251           1.118034  Winter  \n",
       "1252           0.989949    Fall  "
      ]
     },
     "execution_count": 31,
     "metadata": {},
     "output_type": "execute_result"
    }
   ],
   "source": [
    "df1.head()"
   ]
  },
  {
   "cell_type": "code",
   "execution_count": 32,
   "id": "b835ad14-216b-40ac-b9a7-4d5a47103a6a",
   "metadata": {},
   "outputs": [],
   "source": [
    "df_Q3 = df1[['Small Bags', 'Large Bags', 'XLarge Bags', 'SeasonR']]"
   ]
  },
  {
   "cell_type": "code",
   "execution_count": 33,
   "id": "61f0c09a-a68f-42cf-b757-247a66862923",
   "metadata": {},
   "outputs": [
    {
     "data": {
      "text/html": [
       "<div>\n",
       "<style scoped>\n",
       "    .dataframe tbody tr th:only-of-type {\n",
       "        vertical-align: middle;\n",
       "    }\n",
       "\n",
       "    .dataframe tbody tr th {\n",
       "        vertical-align: top;\n",
       "    }\n",
       "\n",
       "    .dataframe thead th {\n",
       "        text-align: right;\n",
       "    }\n",
       "</style>\n",
       "<table border=\"1\" class=\"dataframe\">\n",
       "  <thead>\n",
       "    <tr style=\"text-align: right;\">\n",
       "      <th></th>\n",
       "      <th>Small Bags</th>\n",
       "      <th>Large Bags</th>\n",
       "      <th>XLarge Bags</th>\n",
       "      <th>SeasonR</th>\n",
       "    </tr>\n",
       "  </thead>\n",
       "  <tbody>\n",
       "    <tr>\n",
       "      <th>1248</th>\n",
       "      <td>53606.13</td>\n",
       "      <td>58798.60</td>\n",
       "      <td>0.00</td>\n",
       "      <td>Winter</td>\n",
       "    </tr>\n",
       "    <tr>\n",
       "      <th>1249</th>\n",
       "      <td>50138.45</td>\n",
       "      <td>29624.11</td>\n",
       "      <td>23.09</td>\n",
       "      <td>Winter</td>\n",
       "    </tr>\n",
       "    <tr>\n",
       "      <th>1250</th>\n",
       "      <td>38463.54</td>\n",
       "      <td>54339.31</td>\n",
       "      <td>0.00</td>\n",
       "      <td>Winter</td>\n",
       "    </tr>\n",
       "    <tr>\n",
       "      <th>1251</th>\n",
       "      <td>25297.27</td>\n",
       "      <td>33209.91</td>\n",
       "      <td>0.00</td>\n",
       "      <td>Winter</td>\n",
       "    </tr>\n",
       "    <tr>\n",
       "      <th>1252</th>\n",
       "      <td>27392.48</td>\n",
       "      <td>50911.75</td>\n",
       "      <td>0.00</td>\n",
       "      <td>Fall</td>\n",
       "    </tr>\n",
       "  </tbody>\n",
       "</table>\n",
       "</div>"
      ],
      "text/plain": [
       "      Small Bags  Large Bags  XLarge Bags SeasonR\n",
       "1248    53606.13    58798.60         0.00  Winter\n",
       "1249    50138.45    29624.11        23.09  Winter\n",
       "1250    38463.54    54339.31         0.00  Winter\n",
       "1251    25297.27    33209.91         0.00  Winter\n",
       "1252    27392.48    50911.75         0.00    Fall"
      ]
     },
     "execution_count": 33,
     "metadata": {},
     "output_type": "execute_result"
    }
   ],
   "source": [
    "df_Q3.head()"
   ]
  },
  {
   "cell_type": "code",
   "execution_count": 34,
   "id": "99f155d4-8d96-491c-bf86-0110ba4d8799",
   "metadata": {},
   "outputs": [
    {
     "name": "stdout",
     "output_type": "stream",
     "text": [
      "Small Bags     float64\n",
      "Large Bags     float64\n",
      "XLarge Bags    float64\n",
      "SeasonR         object\n",
      "dtype: object\n"
     ]
    }
   ],
   "source": [
    "print(df_Q3.dtypes)"
   ]
  },
  {
   "cell_type": "markdown",
   "id": "7dd4191b-d1f7-43a8-8e71-e34ecc669c63",
   "metadata": {},
   "source": [
    "### Looks like we've got numerical data in small, large, and xlarge bags columns that include numbers with a fractional part. And the seasonR colums has categorical data. \n",
    "# Subsetting\n",
    "### Next, we'll keep only the three dependent variables, small bags, large bags and xlarge bags."
   ]
  },
  {
   "cell_type": "code",
   "execution_count": 35,
   "id": "63cc3d45-2741-4f79-9d42-8bd1c780e61e",
   "metadata": {},
   "outputs": [
    {
     "name": "stdout",
     "output_type": "stream",
     "text": [
      "      Small Bags  Large Bags  XLarge Bags\n",
      "1248    53606.13    58798.60         0.00\n",
      "1249    50138.45    29624.11        23.09\n",
      "1250    38463.54    54339.31         0.00\n",
      "1251    25297.27    33209.91         0.00\n",
      "1252    27392.48    50911.75         0.00\n"
     ]
    }
   ],
   "source": [
    "dep_vars = ['Small Bags', 'Large Bags', 'XLarge Bags']\n",
    "dep_var_subset = df_Q3[dep_vars]\n",
    "print(dep_var_subset.head())"
   ]
  },
  {
   "cell_type": "code",
   "execution_count": 37,
   "id": "268c8c91-fceb-4368-9e8f-a1eaa145d8a3",
   "metadata": {},
   "outputs": [],
   "source": [
    "#limit the number of rows\n",
    "limited_df = df_Q3.iloc[0:5000]"
   ]
  },
  {
   "cell_type": "markdown",
   "id": "3017d1e5-8c09-4d9a-81bc-037b4f71fbb9",
   "metadata": {},
   "source": [
    "### convert dataframe into a matrix"
   ]
  },
  {
   "cell_type": "code",
   "execution_count": 38,
   "id": "dc5db97f-87c0-459e-b841-2535b0b0bd3e",
   "metadata": {},
   "outputs": [],
   "source": [
    "matrix = dep_var_subset.values"
   ]
  },
  {
   "cell_type": "markdown",
   "id": "dc852334-80c0-493c-82e3-760615efea18",
   "metadata": {},
   "source": [
    "## We are now ready to perform the assumptions test for multivariate normality\n",
    "#### Sample size- the first assumption of Manovas is sample size. The rule of thumb is that you must have at least 20 cases per independent variable, and that there must be more cases then dependent variables in every cell.\n",
    "#### Happily, all three of these are fulfilled with a data set of 18249 per row."
   ]
  },
  {
   "cell_type": "code",
   "execution_count": 39,
   "id": "d04105a3-07f7-41ca-bcdc-2a2a93652cec",
   "metadata": {},
   "outputs": [],
   "source": [
    "# perform Shapiro-Wilk test\n",
    "stat, p = shapiro(dep_var_subset)"
   ]
  },
  {
   "cell_type": "code",
   "execution_count": 40,
   "id": "d7c3ae0b-de68-45c2-83e9-b7a7bc45320c",
   "metadata": {},
   "outputs": [
    {
     "name": "stdout",
     "output_type": "stream",
     "text": [
      "The data is not multivariate normal (reject HO)\n",
      "Test statistic: 0.4731401801109314\n",
      "p-value: 0.0\n"
     ]
    }
   ],
   "source": [
    "if p > 0.05:\n",
    "    print(\"The data is multivariate normal (fail to reject HO)\")\n",
    "else:\n",
    "    print(\"The data is not multivariate normal (reject HO)\")\n",
    "print(\"Test statistic:\", stat)\n",
    "print(\"p-value:\", p)"
   ]
  },
  {
   "cell_type": "markdown",
   "id": "a48ba294-5739-4523-8b8b-c0e97009c999",
   "metadata": {},
   "source": [
    "#### You have violated the assumption of multivariate normality if the p value is significant at p < .05, so unfortunately, these data do not meet the assumption for MANOVAs. However, for learning purposes, we will continue with caution."
   ]
  },
  {
   "cell_type": "markdown",
   "id": "dafa1e9b-2a0c-40f9-ac20-3dbf7e919591",
   "metadata": {},
   "source": [
    "## Homogeneity of Variance"
   ]
  },
  {
   "cell_type": "code",
   "execution_count": null,
   "id": "6dde6cfd-ec18-4497-9897-d27fd8d89331",
   "metadata": {},
   "outputs": [],
   "source": [
    "# run Levene's test\n",
    "statistic, pvalue = levene(sample1, sample2)"
   ]
  },
  {
   "cell_type": "code",
   "execution_count": 47,
   "id": "e1aba372-3a74-491d-b241-7252c72cf5eb",
   "metadata": {},
   "outputs": [],
   "source": [
    "df1.to_csv(\"avocados_seasons2.csv\")"
   ]
  },
  {
   "cell_type": "markdown",
   "id": "523aab15-1689-4db0-a07d-fa038f7e9954",
   "metadata": {},
   "source": [
    "## At this point so is where I decided it was better to be running this through R and needed the added columns that included SeasonR. that explains the code above. please see R file ran in jupyter notebook for final analysis and code work :) "
   ]
  },
  {
   "cell_type": "code",
   "execution_count": null,
   "id": "511e9e9e-ad79-4835-b3cb-dab14993b794",
   "metadata": {},
   "outputs": [],
   "source": []
  }
 ],
 "metadata": {
  "kernelspec": {
   "display_name": "Python 3 (ipykernel)",
   "language": "python",
   "name": "python3"
  },
  "language_info": {
   "codemirror_mode": {
    "name": "ipython",
    "version": 3
   },
   "file_extension": ".py",
   "mimetype": "text/x-python",
   "name": "python",
   "nbconvert_exporter": "python",
   "pygments_lexer": "ipython3",
   "version": "3.10.7"
  }
 },
 "nbformat": 4,
 "nbformat_minor": 5
}
